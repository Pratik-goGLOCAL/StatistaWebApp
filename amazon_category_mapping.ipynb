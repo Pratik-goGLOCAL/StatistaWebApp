{
 "cells": [
  {
   "cell_type": "code",
   "execution_count": 54,
   "metadata": {},
   "outputs": [
    {
     "name": "stderr",
     "output_type": "stream",
     "text": [
      "c:\\Users\\prati\\anaconda3\\envs\\DataGUI\\lib\\site-packages\\fuzzywuzzy\\fuzz.py:11: UserWarning: Using slow pure-python SequenceMatcher. Install python-Levenshtein to remove this warning\n",
      "  warnings.warn('Using slow pure-python SequenceMatcher. Install python-Levenshtein to remove this warning')\n"
     ]
    }
   ],
   "source": [
    "import pandas as pd\n",
    "import numpy as np\n",
    "import os\n",
    "import pickle\n",
    "from fuzzywuzzy import fuzz"
   ]
  },
  {
   "cell_type": "code",
   "execution_count": 50,
   "metadata": {},
   "outputs": [],
   "source": [
    "hsn_code_data = pd.read_csv('hsn_code_des.csv')"
   ]
  },
  {
   "cell_type": "code",
   "execution_count": 47,
   "metadata": {},
   "outputs": [],
   "source": [
    "statista_data = os.listdir('statista_data_csv')"
   ]
  },
  {
   "cell_type": "code",
   "execution_count": 45,
   "metadata": {},
   "outputs": [],
   "source": [
    "# amazon_category_list = {\n",
    "#     'Beauty & Personal Care':{\n",
    "#     'Makeup':['Body Makeup', 'Eye Makeup', 'Face Makeup', 'Lip Makeup', 'Makeup Palettes', 'Makeup Remover', 'Makeup Sets'],\n",
    "#     'Skin Care':['Body','Eyes','Face','Lip Care','Maternity','Sets & Kits','Sunscreens & Tanning Products'],\n",
    "#     'Hair Care':['Hair Styling Accessories','Hair Coloring Products','Hair Cutting Tools','Hair Extensions, Wigs & Accessories',\n",
    "#     'Hair Loss','Hair Treatment Masks','Hair Perms, Relaxers & Texturizers','Hair Treatment Oils','Scalp Treatments',\n",
    "#     'Shampoo & Conditioner','Hair Styling Products','Styling Tools & Appliances'],\n",
    "#     'Perfumes & Fragrances':['Children\\'s Fragrance','Fragrance Dusting Powders','Men\\'s Fragrances','Fragrance Sets','Women\\'s Fragrances'],\n",
    "#     'Foot, Hand & Nail Care':['Foot & Hand Care','Nail Polish & Decoration Products','Nail Care Products','Hand, Foot & Nail Tools'],\n",
    "#     'Beauty Tools & Accessories':['Makeup Bags & Cases','Bathing Accessories','Cotton Balls & Swabs','Makeup Brushes & Tools',\n",
    "#     'Personal Mirrors','Refillable Cosmetic Containers','Shaving & Hair Removal Products','Skin Care Tools'],\n",
    "#     'Shaving & Hair Removal':['Men\\'s Shaving & Hair Removal Products','Women\\'s Shaving & Hair Removal Products'],\n",
    "#     'Personal Care':['Bath & Bathing Accessories','Deodorants & Antiperspirants','Lip Care Products','Oral Care Products',\n",
    "#     'Piercing & Tattoo Supplies','Body Scrubs & Treatments','Shaving & Hair Removal Products','Skin Care Products'],\n",
    "#     'Salon & Spa Equipment':['Hair Drying Hoods','Galvanic Facial Machines','Handheld Mirrors','High Frequency Facial Machines',\n",
    "#     'Manicure Tables','Professional Massage Equipment','Salon & Spa Stools','Spa Beds & Tables','Salon & Spa Chairs',\n",
    "#     'Spa Storage Systems','Spa Hot Towel Warmers']\n",
    "#     },\n",
    "#     'Grocery & Gourmet Food':{\n",
    "#         'Alcoholic Beverages':['Beer','Cocktail Mixers','Liquor & Spirits','Wine'],\n",
    "#         'Baby Foods':['Baby Beverages','Cereal & Porridge for Babies','Baby & Toddler Formula','Baby Food Meals','Baby Snack Foods'],\n",
    "#         'Beverages':['Beverage Syrups & Concentrates','Bottled Beverages, Water & Drink Mixes','Bubble Tea Products','Coffee',\n",
    "#         'Coffee Gifts','Coffee Substitutes','Hot Chocolate & Malted Drinks','Infusion Mixers for Alcohol & Spirits','Tea Beverages'],\n",
    "#         'Breads & Bakery':['Bakery & Dessert Gifts','Fresh Bakery Breadcrumbs & Stuffing','Breads','Fresh Bakery Breadsticks','Cakes',\n",
    "#         'Grocery Cookies','Bakery Desserts','Breakfast Bakery','Pastry Shells & Crusts','Pizza Crusts','Refrigerated Doughs'],\n",
    "#         'Breakfast Foods':['Applesauce & Fruit Cups','Breakfast & Cereal Bars','Breakfast Syrups & Toppings','Breakfast Cereals','Instant Breakfast Drinks',\n",
    "#         'Breakfast Pancake, Waffle & Baking Mixes','Toaster Pastries'],\n",
    "#         'Dairy, Eggs & Plant-Based Alternatives':['Butter, Margarine & Plant-Based Alternatives','Cheeses','Cheese & Charcuterie Gifts','Cheese Assortments & Samplers',\n",
    "#         'Refrigerated Cheese Dips & Spreads','Cottage Cheeses','Cream Cheeses','Dairy & Plant-Based Yogurt','Eggs & Egg Substitutes','Milks & Creams','Plant-Based Cheese',\n",
    "#         'Plant-Based Coffee Creamers','Plant-Based Milk','Refrigerated Snack Packs & Lunches','Sour Creams','Whipped Toppings'],\n",
    "#         'Deli & Prepared Foods':['Fresh Prepared Appetizers','Fresh Prepared Box Lunches','Fresh Prepared Breakfast Foods','Fresh Prepared Casseroles, Pot Pies & Quiches',\n",
    "#         'Deli Meats & Cheeses','Fresh Prepared Deli Salads','Fresh Prepared Dips, Salsas & Spreads','Fresh Prepared Entrees','Fresh Prepared Pasta & Sauces',\n",
    "#         'Fresh Prepared Risotto','Fresh Meal Ingredient Kits','Antipasto','Fresh Prepared Sandwiches & Wraps','Fresh Prepared Side Dishes','Fresh Prepared Soups, Stews & Chili'],\n",
    "#         'Food & Beverage Gifts':['Food & Drink Advent Calendars','Food Assortments & Variety Gifts','Bakery & Dessert Gifts',\n",
    "#         'Candy & Chocolate Gifts','Cheese & Charcuterie Gifts','Coffee Gifts','Fruit & Nut Gifts','Herb, Spice & Seasoning Gifts',\n",
    "#         'Jam, Jelly & Sweet Spread Gifts','Meat & Seafood Gifts','Sauce, Gravy & Marinade Gifts','Snack Food Gifts','Gourmet Tea Gifts'],\n",
    "#         'Fresh Flowers & Live Indoor Plants':['Fresh Flower & Plant Centerpieces','Fresh Cut Flowers','Fresh Flower & Plant Sprays','Fresh Flower & Plant Wreaths','Live Indoor House Plants'],\n",
    "#         'Fresh Meal Ingredient Kits':[],\n",
    "#         'Frozen Foods':['Frozen Appetizers & Snacks','Frozen Bread & Dough','Frozen Breakfast Foods','Frozen Desserts & Toppings','Frozen Fruits',\n",
    "#         'Ice Creams & Frozen Novelties','Frozen Juices','Frozen Meals & Entrees','Frozen Meat','Frozen Pasta & Sauces','Frozen Pizzas','Frozen Potatoes & Onion Rings',\n",
    "#         'Frozen Seafood','Frozen Vegetables'],\n",
    "#         'Home Brewing & Winemaking':['Beer Brewing Ingredients','Beer Brewing Recipe Kits''Winemaking Ingredients'],\n",
    "#         'Meat & Seafood':['Bacon','Beef','Chicken','Foie Gras & Pâtés','Frozen Meat','Hot Dogs & Franks','Lamb Meat','Meat & Seafood Gifts','Pork Meat',\n",
    "#         'Sausages','Seafood','Turducken','Turkey','Veal Meats','Wild Game & Fowl Meat'],\n",
    "#         'Meat Substitutes':['Meatless Bacon','Meatless Burgers & Patties','Meatless Deli Slices''Meatless Hot Dogs, Links & Sausages','Meatless Jerky',\n",
    "#         'Meatless Loaves & Roasts','Meatless Meatballs, Chunks & Crumbles','Meatless Nuggets & Wings','Meatless Pulled & Flaked Meats','Fresh Seitan',\n",
    "#         'Meatless Strips & Cutlets','Fresh Tempeh','Fresh Tofu'],\n",
    "#         'Pantry Staples':['Canned, Jarred & Packaged Foods','Condiments & Salad Dressings','Cooking & Baking Grocery Supplies','Dried Beans, Lentils & Peas',\n",
    "#         'Dried Grains & Rice','Herbs, Spices & Seasonings','Jams, Jellies & Sweet Spreads','Nut & Seed Butters','Olives, Pickles & Relishes','Pasta & Noodles',\n",
    "#         'Sauces, Gravies & Marinades','Soups, Stocks & Broths'],\n",
    "#         'Fresh Produce':['Dried Fruits & Vegetables','Fresh Fruits','Fresh Herbs','Fresh Vegetables','Fruit & Nut Gifts','Cooking & Baking Nuts & Seeds',\n",
    "#         'Fresh Packaged Produce','Fresh Vegetarian Proteins'],\n",
    "#         'Snacks & Sweets':['Candy & Chocolate','Chocolate','Snack Foods']\n",
    "#     }\n",
    "# }\n",
    "\n",
    "# with open('amazon_category_list.pickle', 'wb') as handle:\n",
    "#     pickle.dump(amazon_category_list, handle, protocol=pickle.HIGHEST_PROTOCOL)"
   ]
  },
  {
   "cell_type": "code",
   "execution_count": 52,
   "metadata": {},
   "outputs": [
    {
     "data": {
      "text/plain": [
       "dict_keys(['Beauty & Personal Care', 'Grocery & Gourmet Food'])"
      ]
     },
     "execution_count": 52,
     "metadata": {},
     "output_type": "execute_result"
    }
   ],
   "source": [
    "amazon_category_list.keys()"
   ]
  },
  {
   "cell_type": "code",
   "execution_count": 59,
   "metadata": {},
   "outputs": [
    {
     "name": "stdout",
     "output_type": "stream",
     "text": [
      "<class 'pandas.core.frame.DataFrame'>\n",
      "RangeIndex: 9323 entries, 0 to 9322\n",
      "Data columns (total 6 columns):\n",
      " #   Column             Non-Null Count  Dtype  \n",
      "---  ------             --------------  -----  \n",
      " 0   Unnamed: 0         9323 non-null   int64  \n",
      " 1   HSN_code           8916 non-null   object \n",
      " 2   name_of_commodity  8917 non-null   object \n",
      " 3   chapter_no         8909 non-null   float64\n",
      " 4   sch                8910 non-null   object \n",
      " 5   gst                8887 non-null   object \n",
      "dtypes: float64(1), int64(1), object(4)\n",
      "memory usage: 437.1+ KB\n"
     ]
    }
   ],
   "source": [
    "hsn_code_data.info()"
   ]
  },
  {
   "cell_type": "code",
   "execution_count": 61,
   "metadata": {},
   "outputs": [],
   "source": [
    "hsn_code_data['name_of_commodity'].fillna('NA',inplace=True)"
   ]
  },
  {
   "cell_type": "code",
   "execution_count": 73,
   "metadata": {},
   "outputs": [],
   "source": [
    "hsn_mapping = pd.DataFrame()\n",
    "for key in amazon_category_list.keys():\n",
    "    for k in key.split(' & '):\n",
    "    hsn_mapping['mapped_score_'+key] = hsn_code_data['name_of_commodity'].apply(lambda x: fuzz.partial_ratio(key,x))"
   ]
  },
  {
   "cell_type": "code",
   "execution_count": 74,
   "metadata": {},
   "outputs": [
    {
     "data": {
      "text/plain": [
       "2810"
      ]
     },
     "execution_count": 74,
     "metadata": {},
     "output_type": "execute_result"
    }
   ],
   "source": [
    "hsn_mapping['mapped_score_Beauty & Personal Care'].argmax()"
   ]
  },
  {
   "cell_type": "code",
   "execution_count": 76,
   "metadata": {},
   "outputs": [],
   "source": [
    "hsn_mapping['mapped_score_'+'Body Makeup'] = hsn_code_data['name_of_commodity'].apply(lambda x: fuzz.partial_('Body Makeup',x))"
   ]
  },
  {
   "cell_type": "code",
   "execution_count": 77,
   "metadata": {},
   "outputs": [
    {
     "data": {
      "text/plain": [
       "600"
      ]
     },
     "execution_count": 77,
     "metadata": {},
     "output_type": "execute_result"
    }
   ],
   "source": [
    "hsn_mapping['mapped_score_'+'Body Makeup'].argmax()"
   ]
  },
  {
   "cell_type": "code",
   "execution_count": 79,
   "metadata": {},
   "outputs": [
    {
     "data": {
      "text/plain": [
       "Unnamed: 0                                    601\n",
       "HSN_code                               0903.00.00\n",
       "name_of_commodity                            Mate\n",
       "chapter_no                                    9.0\n",
       "sch                                            II\n",
       "gst                                            5%\n",
       "mapped_score_Beauty & Personal Care             8\n",
       "mapped_score_Grocery & Gourmet Food             8\n",
       "Name: 600, dtype: object"
      ]
     },
     "execution_count": 79,
     "metadata": {},
     "output_type": "execute_result"
    }
   ],
   "source": [
    "hsn_code_data.iloc[600,:]"
   ]
  },
  {
   "cell_type": "code",
   "execution_count": 72,
   "metadata": {},
   "outputs": [
    {
     "data": {
      "text/html": [
       "<div>\n",
       "<style scoped>\n",
       "    .dataframe tbody tr th:only-of-type {\n",
       "        vertical-align: middle;\n",
       "    }\n",
       "\n",
       "    .dataframe tbody tr th {\n",
       "        vertical-align: top;\n",
       "    }\n",
       "\n",
       "    .dataframe thead th {\n",
       "        text-align: right;\n",
       "    }\n",
       "</style>\n",
       "<table border=\"1\" class=\"dataframe\">\n",
       "  <thead>\n",
       "    <tr style=\"text-align: right;\">\n",
       "      <th></th>\n",
       "      <th>Unnamed: 0</th>\n",
       "      <th>HSN_code</th>\n",
       "      <th>name_of_commodity</th>\n",
       "      <th>chapter_no</th>\n",
       "      <th>sch</th>\n",
       "      <th>gst</th>\n",
       "      <th>mapped_score_Beauty &amp; Personal Care</th>\n",
       "      <th>mapped_score_Grocery &amp; Gourmet Food</th>\n",
       "    </tr>\n",
       "  </thead>\n",
       "  <tbody>\n",
       "    <tr>\n",
       "      <th>3543</th>\n",
       "      <td>3544</td>\n",
       "      <td>3304.00.00</td>\n",
       "      <td>Beauty or make-up preparations and\\npreparatio...</td>\n",
       "      <td>33.0</td>\n",
       "      <td>V</td>\n",
       "      <td>28%</td>\n",
       "      <td>17</td>\n",
       "      <td>13</td>\n",
       "    </tr>\n",
       "    <tr>\n",
       "      <th>3548</th>\n",
       "      <td>3549</td>\n",
       "      <td>3304.91.00</td>\n",
       "      <td>Beauty or make-up preparations (powder type)</td>\n",
       "      <td>33.0</td>\n",
       "      <td>V</td>\n",
       "      <td>28%</td>\n",
       "      <td>36</td>\n",
       "      <td>18</td>\n",
       "    </tr>\n",
       "  </tbody>\n",
       "</table>\n",
       "</div>"
      ],
      "text/plain": [
       "      Unnamed: 0    HSN_code  \\\n",
       "3543        3544  3304.00.00   \n",
       "3548        3549  3304.91.00   \n",
       "\n",
       "                                      name_of_commodity  chapter_no sch  gst  \\\n",
       "3543  Beauty or make-up preparations and\\npreparatio...        33.0   V  28%   \n",
       "3548       Beauty or make-up preparations (powder type)        33.0   V  28%   \n",
       "\n",
       "      mapped_score_Beauty & Personal Care  mapped_score_Grocery & Gourmet Food  \n",
       "3543                                   17                                   13  \n",
       "3548                                   36                                   18  "
      ]
     },
     "execution_count": 72,
     "metadata": {},
     "output_type": "execute_result"
    }
   ],
   "source": [
    "hsn_code_data[hsn_code_data['name_of_commodity'].str.contains('Beauty')]"
   ]
  },
  {
   "cell_type": "code",
   "execution_count": null,
   "metadata": {},
   "outputs": [],
   "source": []
  }
 ],
 "metadata": {
  "kernelspec": {
   "display_name": "DataGUI",
   "language": "python",
   "name": "python3"
  },
  "language_info": {
   "codemirror_mode": {
    "name": "ipython",
    "version": 3
   },
   "file_extension": ".py",
   "mimetype": "text/x-python",
   "name": "python",
   "nbconvert_exporter": "python",
   "pygments_lexer": "ipython3",
   "version": "3.9.16"
  },
  "orig_nbformat": 4,
  "vscode": {
   "interpreter": {
    "hash": "52f7361a884966a223bf4fdea3131789872862706cb81c752afa8e2e55093ea3"
   }
  }
 },
 "nbformat": 4,
 "nbformat_minor": 2
}
