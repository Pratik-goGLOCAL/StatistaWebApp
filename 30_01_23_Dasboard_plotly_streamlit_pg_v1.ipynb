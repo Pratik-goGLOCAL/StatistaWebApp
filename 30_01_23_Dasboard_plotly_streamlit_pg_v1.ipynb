{
 "cells": [
  {
   "cell_type": "markdown",
   "id": "5482a28b",
   "metadata": {},
   "source": [
    "## Import Packages"
   ]
  },
  {
   "cell_type": "code",
   "execution_count": 1,
   "id": "5c55d8a5",
   "metadata": {
    "ExecuteTime": {
     "end_time": "2023-01-31T09:14:32.520153Z",
     "start_time": "2023-01-31T09:14:31.959744Z"
    }
   },
   "outputs": [],
   "source": [
    "# Import Packages\n",
    "import pandas as pd\n",
    "import streamlit as st\n",
    "import numpy as np\n",
    "import os\n",
    "import pickle as pkl\n",
    "import subprocess\n",
    "import json\n",
    "from urllib.parse import urljoin\n",
    "import re\n",
    "import sys\n",
    "from loguru import  logger"
   ]
  },
  {
   "attachments": {},
   "cell_type": "markdown",
   "id": "7e5e2783",
   "metadata": {},
   "source": [
    "# Load Data"
   ]
  },
  {
   "cell_type": "code",
   "execution_count": 3,
   "id": "40075c0d",
   "metadata": {
    "ExecuteTime": {
     "end_time": "2023-01-30T11:21:30.274659Z",
     "start_time": "2023-01-30T11:21:30.226533Z"
    }
   },
   "outputs": [],
   "source": [
    "country_names = os.listdir('statista_data')\n"
   ]
  },
  {
   "cell_type": "code",
   "execution_count": 6,
   "id": "faaf602b",
   "metadata": {},
   "outputs": [
    {
     "data": {
      "text/plain": [
       "['__add__',\n",
       " '__class__',\n",
       " '__contains__',\n",
       " '__delattr__',\n",
       " '__dir__',\n",
       " '__doc__',\n",
       " '__eq__',\n",
       " '__format__',\n",
       " '__ge__',\n",
       " '__getattribute__',\n",
       " '__getitem__',\n",
       " '__getnewargs__',\n",
       " '__gt__',\n",
       " '__hash__',\n",
       " '__init__',\n",
       " '__init_subclass__',\n",
       " '__iter__',\n",
       " '__le__',\n",
       " '__len__',\n",
       " '__lt__',\n",
       " '__mod__',\n",
       " '__mul__',\n",
       " '__ne__',\n",
       " '__new__',\n",
       " '__reduce__',\n",
       " '__reduce_ex__',\n",
       " '__repr__',\n",
       " '__rmod__',\n",
       " '__rmul__',\n",
       " '__setattr__',\n",
       " '__sizeof__',\n",
       " '__str__',\n",
       " '__subclasshook__',\n",
       " 'capitalize',\n",
       " 'casefold',\n",
       " 'center',\n",
       " 'count',\n",
       " 'encode',\n",
       " 'endswith',\n",
       " 'expandtabs',\n",
       " 'find',\n",
       " 'format',\n",
       " 'format_map',\n",
       " 'index',\n",
       " 'isalnum',\n",
       " 'isalpha',\n",
       " 'isascii',\n",
       " 'isdecimal',\n",
       " 'isdigit',\n",
       " 'isidentifier',\n",
       " 'islower',\n",
       " 'isnumeric',\n",
       " 'isprintable',\n",
       " 'isspace',\n",
       " 'istitle',\n",
       " 'isupper',\n",
       " 'join',\n",
       " 'ljust',\n",
       " 'lower',\n",
       " 'lstrip',\n",
       " 'maketrans',\n",
       " 'partition',\n",
       " 'removeprefix',\n",
       " 'removesuffix',\n",
       " 'replace',\n",
       " 'rfind',\n",
       " 'rindex',\n",
       " 'rjust',\n",
       " 'rpartition',\n",
       " 'rsplit',\n",
       " 'rstrip',\n",
       " 'split',\n",
       " 'splitlines',\n",
       " 'startswith',\n",
       " 'strip',\n",
       " 'swapcase',\n",
       " 'title',\n",
       " 'translate',\n",
       " 'upper',\n",
       " 'zfill']"
      ]
     },
     "execution_count": 6,
     "metadata": {},
     "output_type": "execute_result"
    }
   ],
   "source": [
    "dir('pratik')"
   ]
  },
  {
   "cell_type": "code",
   "execution_count": 9,
   "id": "305dd85a",
   "metadata": {},
   "outputs": [
    {
     "data": {
      "text/plain": [
       "'Beauty Health Personal Household Care'"
      ]
     },
     "execution_count": 9,
     "metadata": {},
     "output_type": "execute_result"
    }
   ],
   "source": [
    "'beauty-health-personal-household-care'.replace('-',' ').title()"
   ]
  },
  {
   "cell_type": "code",
   "execution_count": 4,
   "id": "d44fe911",
   "metadata": {
    "ExecuteTime": {
     "end_time": "2023-01-31T09:14:30.495687Z",
     "start_time": "2023-01-31T09:14:30.187606Z"
    }
   },
   "outputs": [
    {
     "data": {
      "text/plain": [
       "['albania',\n",
       " 'algeria',\n",
       " 'angola',\n",
       " 'argentina',\n",
       " 'armenia',\n",
       " 'australia',\n",
       " 'austria',\n",
       " 'azerbaijan',\n",
       " 'bahrain',\n",
       " 'bangladesh',\n",
       " 'belarus',\n",
       " 'belgium',\n",
       " 'belize',\n",
       " 'benin',\n",
       " 'bhutan',\n",
       " 'bolivia',\n",
       " 'bosnia-and-herzegovina',\n",
       " 'botswana',\n",
       " 'brazil',\n",
       " 'brunei-darussalam',\n",
       " 'bulgaria',\n",
       " 'burkina-faso',\n",
       " 'burundi',\n",
       " 'cambodia',\n",
       " 'cameroon',\n",
       " 'canada',\n",
       " 'chad',\n",
       " 'chile',\n",
       " 'china',\n",
       " 'colombia',\n",
       " 'costa-rica',\n",
       " 'croatia',\n",
       " 'cuba',\n",
       " 'cyprus',\n",
       " 'czechia',\n",
       " 'denmark',\n",
       " 'dominican-republic',\n",
       " 'ecuador',\n",
       " 'egypt',\n",
       " 'el-salvador',\n",
       " 'equatorial-guinea',\n",
       " 'estonia',\n",
       " 'ethiopia',\n",
       " 'fiji',\n",
       " 'finland',\n",
       " 'france',\n",
       " 'gabon',\n",
       " 'gambia',\n",
       " 'georgia',\n",
       " 'germany',\n",
       " 'ghana',\n",
       " 'greece',\n",
       " 'guatemala',\n",
       " 'guinea',\n",
       " 'guyana',\n",
       " 'haiti',\n",
       " 'honduras',\n",
       " 'hong-kong',\n",
       " 'hungary',\n",
       " 'iceland',\n",
       " 'india',\n",
       " 'indonesia',\n",
       " 'iran',\n",
       " 'iraq',\n",
       " 'ireland',\n",
       " 'israel',\n",
       " 'italy',\n",
       " 'ivory-coast',\n",
       " 'jamaica',\n",
       " 'japan',\n",
       " 'jordan',\n",
       " 'kazakhstan',\n",
       " 'kenya',\n",
       " 'kuwait',\n",
       " 'kyrgyzstan',\n",
       " 'laos',\n",
       " 'latvia',\n",
       " 'lebanon',\n",
       " 'lesotho',\n",
       " 'lithuania',\n",
       " 'luxembourg',\n",
       " 'madagascar',\n",
       " 'malawi',\n",
       " 'malaysia',\n",
       " 'malta',\n",
       " 'mauritius',\n",
       " 'mexico',\n",
       " 'moldova',\n",
       " 'mongolia',\n",
       " 'montenegro',\n",
       " 'morocco',\n",
       " 'mozambique',\n",
       " 'myanmar',\n",
       " 'namibia',\n",
       " 'nepal',\n",
       " 'netherlands',\n",
       " 'new-zealand',\n",
       " 'nicaragua',\n",
       " 'niger',\n",
       " 'nigeria',\n",
       " 'north-macedonia',\n",
       " 'norway',\n",
       " 'oman',\n",
       " 'pakistan',\n",
       " 'panama',\n",
       " 'papua-new-guinea',\n",
       " 'paraguay',\n",
       " 'peru',\n",
       " 'philippines',\n",
       " 'poland',\n",
       " 'portugal',\n",
       " 'puerto-rico',\n",
       " 'qatar',\n",
       " 'republic-of-the-congo',\n",
       " 'romania',\n",
       " 'russia',\n",
       " 'rwanda',\n",
       " 'saudi-arabia',\n",
       " 'senegal',\n",
       " 'serbia',\n",
       " 'seychelles',\n",
       " 'sierra-leone',\n",
       " 'singapore',\n",
       " 'slovakia',\n",
       " 'slovenia',\n",
       " 'south-africa',\n",
       " 'south-korea',\n",
       " 'spain',\n",
       " 'sri-lanka',\n",
       " 'sudan',\n",
       " 'suriname',\n",
       " 'sweden',\n",
       " 'switzerland',\n",
       " 'taiwan',\n",
       " 'tajikistan',\n",
       " 'tanzania',\n",
       " 'thailand',\n",
       " 'timor-leste',\n",
       " 'togo',\n",
       " 'tunisia',\n",
       " 'turkey',\n",
       " 'turkmenistan',\n",
       " 'uganda',\n",
       " 'ukraine',\n",
       " 'united-arab-emirates',\n",
       " 'united-kingdom',\n",
       " 'united-states',\n",
       " 'uruguay',\n",
       " 'uzbekistan',\n",
       " 'vietnam',\n",
       " 'zambia',\n",
       " 'zimbabwe']"
      ]
     },
     "execution_count": 4,
     "metadata": {},
     "output_type": "execute_result"
    }
   ],
   "source": [
    "[x.title() for x in country_names]"
   ]
  },
  {
   "cell_type": "code",
   "execution_count": null,
   "id": "3c27a83d",
   "metadata": {},
   "outputs": [],
   "source": []
  }
 ],
 "metadata": {
  "kernelspec": {
   "display_name": "dataGUI",
   "language": "python",
   "name": "datagui"
  },
  "language_info": {
   "codemirror_mode": {
    "name": "ipython",
    "version": 3
   },
   "file_extension": ".py",
   "mimetype": "text/x-python",
   "name": "python",
   "nbconvert_exporter": "python",
   "pygments_lexer": "ipython3",
   "version": "3.9.13"
  },
  "toc": {
   "base_numbering": 1,
   "nav_menu": {},
   "number_sections": true,
   "sideBar": true,
   "skip_h1_title": false,
   "title_cell": "Table of Contents",
   "title_sidebar": "Contents",
   "toc_cell": false,
   "toc_position": {},
   "toc_section_display": true,
   "toc_window_display": false
  },
  "varInspector": {
   "cols": {
    "lenName": 16,
    "lenType": 16,
    "lenVar": 40
   },
   "kernels_config": {
    "python": {
     "delete_cmd_postfix": "",
     "delete_cmd_prefix": "del ",
     "library": "var_list.py",
     "varRefreshCmd": "print(var_dic_list())"
    },
    "r": {
     "delete_cmd_postfix": ") ",
     "delete_cmd_prefix": "rm(",
     "library": "var_list.r",
     "varRefreshCmd": "cat(var_dic_list()) "
    }
   },
   "types_to_exclude": [
    "module",
    "function",
    "builtin_function_or_method",
    "instance",
    "_Feature"
   ],
   "window_display": false
  }
 },
 "nbformat": 4,
 "nbformat_minor": 5
}
