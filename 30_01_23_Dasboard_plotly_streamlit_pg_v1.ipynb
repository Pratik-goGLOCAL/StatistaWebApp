{
 "cells": [
  {
   "cell_type": "markdown",
   "id": "5482a28b",
   "metadata": {},
   "source": [
    "## Import Packages"
   ]
  },
  {
   "cell_type": "code",
   "execution_count": 1,
   "id": "5c55d8a5",
   "metadata": {
    "ExecuteTime": {
     "end_time": "2023-01-31T09:14:32.520153Z",
     "start_time": "2023-01-31T09:14:31.959744Z"
    }
   },
   "outputs": [],
   "source": [
    "import pandas as pd\n",
    "import plotly.express as px\n",
    "import streamlit as st\n",
    "import xlrd"
   ]
  },
  {
   "attachments": {},
   "cell_type": "markdown",
   "id": "7e5e2783",
   "metadata": {},
   "source": [
    "# Load Data"
   ]
  },
  {
   "cell_type": "code",
   "execution_count": 2,
   "id": "40075c0d",
   "metadata": {
    "ExecuteTime": {
     "end_time": "2023-01-30T11:21:30.274659Z",
     "start_time": "2023-01-30T11:21:30.226533Z"
    }
   },
   "outputs": [],
   "source": [
    "data = pd.read_excel(io= 'Statista-Market-Insights-Albania---Revenue-Furniture (1).xlsx',\n",
    "                    engine= 'openpyxl',\n",
    ")"
   ]
  },
  {
   "cell_type": "code",
   "execution_count": 3,
   "id": "d44fe911",
   "metadata": {
    "ExecuteTime": {
     "end_time": "2023-01-31T09:14:30.495687Z",
     "start_time": "2023-01-31T09:14:30.187606Z"
    }
   },
   "outputs": [
    {
     "data": {
      "text/html": [
       "<div>\n",
       "<style scoped>\n",
       "    .dataframe tbody tr th:only-of-type {\n",
       "        vertical-align: middle;\n",
       "    }\n",
       "\n",
       "    .dataframe tbody tr th {\n",
       "        vertical-align: top;\n",
       "    }\n",
       "\n",
       "    .dataframe thead th {\n",
       "        text-align: right;\n",
       "    }\n",
       "</style>\n",
       "<table border=\"1\" class=\"dataframe\">\n",
       "  <thead>\n",
       "    <tr style=\"text-align: right;\">\n",
       "      <th></th>\n",
       "      <th>Unnamed: 0</th>\n",
       "      <th>2017</th>\n",
       "      <th>2018</th>\n",
       "      <th>2019</th>\n",
       "      <th>2020</th>\n",
       "      <th>2021</th>\n",
       "      <th>2022</th>\n",
       "      <th>2023</th>\n",
       "      <th>2024</th>\n",
       "      <th>2025</th>\n",
       "      <th>2026</th>\n",
       "      <th>2027</th>\n",
       "    </tr>\n",
       "  </thead>\n",
       "  <tbody>\n",
       "    <tr>\n",
       "      <th>0</th>\n",
       "      <td>Bedroom Furniture</td>\n",
       "      <td>4.34</td>\n",
       "      <td>4.87</td>\n",
       "      <td>5.46</td>\n",
       "      <td>6.89</td>\n",
       "      <td>8.05</td>\n",
       "      <td>7.01</td>\n",
       "      <td>9.44</td>\n",
       "      <td>10.73</td>\n",
       "      <td>12.24</td>\n",
       "      <td>13.17</td>\n",
       "      <td>14.24</td>\n",
       "    </tr>\n",
       "    <tr>\n",
       "      <th>1</th>\n",
       "      <td>Floor Covering</td>\n",
       "      <td>1.55</td>\n",
       "      <td>1.73</td>\n",
       "      <td>1.93</td>\n",
       "      <td>2.39</td>\n",
       "      <td>2.79</td>\n",
       "      <td>2.44</td>\n",
       "      <td>3.29</td>\n",
       "      <td>3.76</td>\n",
       "      <td>4.32</td>\n",
       "      <td>4.64</td>\n",
       "      <td>5.02</td>\n",
       "    </tr>\n",
       "    <tr>\n",
       "      <th>2</th>\n",
       "      <td>Kitchen Furniture</td>\n",
       "      <td>1.27</td>\n",
       "      <td>1.43</td>\n",
       "      <td>1.62</td>\n",
       "      <td>2.05</td>\n",
       "      <td>2.45</td>\n",
       "      <td>2.16</td>\n",
       "      <td>2.94</td>\n",
       "      <td>3.38</td>\n",
       "      <td>3.89</td>\n",
       "      <td>4.20</td>\n",
       "      <td>4.56</td>\n",
       "    </tr>\n",
       "    <tr>\n",
       "      <th>3</th>\n",
       "      <td>Lamps &amp; Lighting</td>\n",
       "      <td>2.46</td>\n",
       "      <td>2.74</td>\n",
       "      <td>3.03</td>\n",
       "      <td>3.77</td>\n",
       "      <td>4.34</td>\n",
       "      <td>3.77</td>\n",
       "      <td>5.05</td>\n",
       "      <td>5.73</td>\n",
       "      <td>6.53</td>\n",
       "      <td>7.01</td>\n",
       "      <td>7.56</td>\n",
       "    </tr>\n",
       "    <tr>\n",
       "      <th>4</th>\n",
       "      <td>Living-Room &amp; Dining-Room Furniture</td>\n",
       "      <td>4.93</td>\n",
       "      <td>5.52</td>\n",
       "      <td>6.22</td>\n",
       "      <td>8.05</td>\n",
       "      <td>9.56</td>\n",
       "      <td>8.40</td>\n",
       "      <td>11.40</td>\n",
       "      <td>13.07</td>\n",
       "      <td>15.01</td>\n",
       "      <td>16.21</td>\n",
       "      <td>17.58</td>\n",
       "    </tr>\n",
       "    <tr>\n",
       "      <th>5</th>\n",
       "      <td>Other Furniture</td>\n",
       "      <td>3.30</td>\n",
       "      <td>3.69</td>\n",
       "      <td>4.14</td>\n",
       "      <td>5.25</td>\n",
       "      <td>6.16</td>\n",
       "      <td>5.39</td>\n",
       "      <td>7.28</td>\n",
       "      <td>8.31</td>\n",
       "      <td>9.51</td>\n",
       "      <td>10.25</td>\n",
       "      <td>11.09</td>\n",
       "    </tr>\n",
       "    <tr>\n",
       "      <th>6</th>\n",
       "      <td>Plastic &amp; Other Furniture</td>\n",
       "      <td>0.41</td>\n",
       "      <td>0.45</td>\n",
       "      <td>0.50</td>\n",
       "      <td>0.62</td>\n",
       "      <td>0.72</td>\n",
       "      <td>0.62</td>\n",
       "      <td>0.82</td>\n",
       "      <td>0.92</td>\n",
       "      <td>1.04</td>\n",
       "      <td>1.12</td>\n",
       "      <td>1.20</td>\n",
       "    </tr>\n",
       "    <tr>\n",
       "      <th>7</th>\n",
       "      <td>Total</td>\n",
       "      <td>18.26</td>\n",
       "      <td>20.43</td>\n",
       "      <td>22.90</td>\n",
       "      <td>29.03</td>\n",
       "      <td>34.07</td>\n",
       "      <td>29.78</td>\n",
       "      <td>40.23</td>\n",
       "      <td>45.90</td>\n",
       "      <td>52.54</td>\n",
       "      <td>56.60</td>\n",
       "      <td>61.24</td>\n",
       "    </tr>\n",
       "  </tbody>\n",
       "</table>\n",
       "</div>"
      ],
      "text/plain": [
       "                            Unnamed: 0   2017   2018   2019   2020   2021  \\\n",
       "0                    Bedroom Furniture   4.34   4.87   5.46   6.89   8.05   \n",
       "1                       Floor Covering   1.55   1.73   1.93   2.39   2.79   \n",
       "2                    Kitchen Furniture   1.27   1.43   1.62   2.05   2.45   \n",
       "3                     Lamps & Lighting   2.46   2.74   3.03   3.77   4.34   \n",
       "4  Living-Room & Dining-Room Furniture   4.93   5.52   6.22   8.05   9.56   \n",
       "5                      Other Furniture   3.30   3.69   4.14   5.25   6.16   \n",
       "6            Plastic & Other Furniture   0.41   0.45   0.50   0.62   0.72   \n",
       "7                                Total  18.26  20.43  22.90  29.03  34.07   \n",
       "\n",
       "    2022   2023   2024   2025   2026   2027  \n",
       "0   7.01   9.44  10.73  12.24  13.17  14.24  \n",
       "1   2.44   3.29   3.76   4.32   4.64   5.02  \n",
       "2   2.16   2.94   3.38   3.89   4.20   4.56  \n",
       "3   3.77   5.05   5.73   6.53   7.01   7.56  \n",
       "4   8.40  11.40  13.07  15.01  16.21  17.58  \n",
       "5   5.39   7.28   8.31   9.51  10.25  11.09  \n",
       "6   0.62   0.82   0.92   1.04   1.12   1.20  \n",
       "7  29.78  40.23  45.90  52.54  56.60  61.24  "
      ]
     },
     "execution_count": 3,
     "metadata": {},
     "output_type": "execute_result"
    }
   ],
   "source": [
    "data"
   ]
  },
  {
   "cell_type": "code",
   "execution_count": null,
   "id": "3c27a83d",
   "metadata": {},
   "outputs": [],
   "source": []
  }
 ],
 "metadata": {
  "kernelspec": {
   "display_name": "dataGUI",
   "language": "python",
   "name": "datagui"
  },
  "language_info": {
   "codemirror_mode": {
    "name": "ipython",
    "version": 3
   },
   "file_extension": ".py",
   "mimetype": "text/x-python",
   "name": "python",
   "nbconvert_exporter": "python",
   "pygments_lexer": "ipython3",
   "version": "3.9.13"
  },
  "toc": {
   "base_numbering": 1,
   "nav_menu": {},
   "number_sections": true,
   "sideBar": true,
   "skip_h1_title": false,
   "title_cell": "Table of Contents",
   "title_sidebar": "Contents",
   "toc_cell": false,
   "toc_position": {},
   "toc_section_display": true,
   "toc_window_display": false
  },
  "varInspector": {
   "cols": {
    "lenName": 16,
    "lenType": 16,
    "lenVar": 40
   },
   "kernels_config": {
    "python": {
     "delete_cmd_postfix": "",
     "delete_cmd_prefix": "del ",
     "library": "var_list.py",
     "varRefreshCmd": "print(var_dic_list())"
    },
    "r": {
     "delete_cmd_postfix": ") ",
     "delete_cmd_prefix": "rm(",
     "library": "var_list.r",
     "varRefreshCmd": "cat(var_dic_list()) "
    }
   },
   "types_to_exclude": [
    "module",
    "function",
    "builtin_function_or_method",
    "instance",
    "_Feature"
   ],
   "window_display": false
  }
 },
 "nbformat": 4,
 "nbformat_minor": 5
}
